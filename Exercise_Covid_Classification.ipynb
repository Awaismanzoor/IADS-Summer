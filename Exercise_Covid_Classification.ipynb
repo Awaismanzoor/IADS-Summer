{
  "nbformat": 4,
  "nbformat_minor": 0,
  "metadata": {
    "colab": {
      "name": "Exercise-Covid_Classification.ipynb",
      "provenance": []
    },
    "kernelspec": {
      "name": "python3",
      "display_name": "Python 3"
    },
    "accelerator": "GPU"
  },
  "cells": [
    {
      "cell_type": "code",
      "metadata": {
        "colab": {
          "base_uri": "https://localhost:8080/"
        },
        "id": "FluT1M9QvcvV",
        "outputId": "e87a9dbd-8bde-45fa-b599-475295fd03a7"
      },
      "source": [
        "!git clone https://github.com/UCSD-AI4H/COVID-CT.git"
      ],
      "execution_count": 1,
      "outputs": [
        {
          "output_type": "stream",
          "name": "stdout",
          "text": [
            "Cloning into 'COVID-CT'...\n",
            "remote: Enumerating objects: 5463, done.\u001b[K\n",
            "remote: Counting objects: 100% (4/4), done.\u001b[K\n",
            "remote: Compressing objects: 100% (4/4), done.\u001b[K\n",
            "remote: Total 5463 (delta 0), reused 1 (delta 0), pack-reused 5459\u001b[K\n",
            "Receiving objects: 100% (5463/5463), 1.09 GiB | 17.52 MiB/s, done.\n",
            "Resolving deltas: 100% (360/360), done.\n",
            "Checking out files: 100% (1048/1048), done.\n"
          ]
        }
      ]
    },
    {
      "cell_type": "code",
      "metadata": {
        "id": "hbh1Nm2mv_cF"
      },
      "source": [
        "## unzip archives  q - quite, n - don't overwrite\n",
        "!unzip -q -n '/content/COVID-CT/Images-processed/CT_COVID.zip'\n",
        "!unzip -q -n '/content/COVID-CT/Images-processed/CT_NonCOVID.zip'"
      ],
      "execution_count": 2,
      "outputs": []
    },
    {
      "cell_type": "code",
      "metadata": {
        "colab": {
          "base_uri": "https://localhost:8080/"
        },
        "id": "7gV196flwWAH",
        "outputId": "5f207909-3c9e-43a8-b693-63fad39f77cf"
      },
      "source": [
        "import os\n",
        "path='/content/CT_COVID/'\n",
        "for count, filename in enumerate(os.listdir(path)): \n",
        "    dst =\"covid-\" + str(count) + \".png\"\n",
        "    src =path+ filename \n",
        "    dst =path+ dst \n",
        "        \n",
        "    # rename() function will \n",
        "    # rename all the files \n",
        "    os.rename(src, dst)\n",
        "print(\"Covid Positive cases: \", count)\n",
        "\n",
        "path='/content/CT_NonCOVID/'\n",
        "for count, filename in enumerate(os.listdir(path)): \n",
        "    dst =\"noncovid-\" + str(count) + \".png\"\n",
        "    src =path+ filename \n",
        "    dst =path+ dst \n",
        "        \n",
        "    # rename() function will \n",
        "    # rename all the files \n",
        "    os.rename(src, dst)\n",
        "\n",
        "print(\"Covid Negative cases: \", count)"
      ],
      "execution_count": 3,
      "outputs": [
        {
          "output_type": "stream",
          "name": "stdout",
          "text": [
            "Covid Positive cases:  348\n",
            "Covid Negative cases:  396\n"
          ]
        }
      ]
    },
    {
      "cell_type": "code",
      "source": [
        "covid_dataset_dir = '/content/CT_COVID'\n",
        "noncovid_dataset_dir = '/content/CT_NonCOVID'\n",
        "base_dir = '/content/COVID_Detection'\n",
        "os.mkdir(base_dir)"
      ],
      "metadata": {
        "id": "aBRlsgdv4SKN",
        "colab": {
          "base_uri": "https://localhost:8080/",
          "height": 200
        },
        "outputId": "9d9090b7-1a31-4dae-8e8b-1b08c2aa4207"
      },
      "execution_count": 14,
      "outputs": [
        {
          "output_type": "error",
          "ename": "FileExistsError",
          "evalue": "ignored",
          "traceback": [
            "\u001b[0;31m---------------------------------------------------------------------------\u001b[0m",
            "\u001b[0;31mFileExistsError\u001b[0m                           Traceback (most recent call last)",
            "\u001b[0;32m<ipython-input-14-d7651c502d84>\u001b[0m in \u001b[0;36m<module>\u001b[0;34m()\u001b[0m\n\u001b[1;32m      2\u001b[0m \u001b[0mnoncovid_dataset_dir\u001b[0m \u001b[0;34m=\u001b[0m \u001b[0;34m'/content/CT_NonCOVID'\u001b[0m\u001b[0;34m\u001b[0m\u001b[0;34m\u001b[0m\u001b[0m\n\u001b[1;32m      3\u001b[0m \u001b[0mbase_dir\u001b[0m \u001b[0;34m=\u001b[0m \u001b[0;34m'/content/COVID_Detection'\u001b[0m\u001b[0;34m\u001b[0m\u001b[0;34m\u001b[0m\u001b[0m\n\u001b[0;32m----> 4\u001b[0;31m \u001b[0mos\u001b[0m\u001b[0;34m.\u001b[0m\u001b[0mmkdir\u001b[0m\u001b[0;34m(\u001b[0m\u001b[0mbase_dir\u001b[0m\u001b[0;34m)\u001b[0m\u001b[0;34m\u001b[0m\u001b[0;34m\u001b[0m\u001b[0m\n\u001b[0m",
            "\u001b[0;31mFileExistsError\u001b[0m: [Errno 17] File exists: '/content/COVID_Detection'"
          ]
        }
      ]
    },
    {
      "cell_type": "code",
      "source": [
        "train_dir = os.path.join(base_dir, 'train')\n",
        "os.mkdir(train_dir)\n",
        "\n",
        "validation_dir = os.path.join(base_dir, 'validation')\n",
        "os.mkdir(validation_dir)\n",
        "\n",
        "train_covid_dir = os.path.join(train_dir, 'covid')\n",
        "os.mkdir(train_covid_dir)\n",
        "\n",
        "train_noncovid_dir = os.path.join(train_dir, 'noncovid')\n",
        "os.mkdir(train_noncovid_dir)\n",
        "\n",
        "validation_covid_dir = os.path.join(validation_dir, 'covid')\n",
        "os.mkdir(validation_covid_dir)\n",
        "\n",
        "validation_noncovid_dir = os.path.join(validation_dir, 'noncovid')\n",
        "os.mkdir(validation_noncovid_dir)"
      ],
      "metadata": {
        "id": "0i6yEClX6rLm",
        "colab": {
          "base_uri": "https://localhost:8080/",
          "height": 235
        },
        "outputId": "5abe5577-66f2-4d2b-905c-6ea5fe7186ca"
      },
      "execution_count": 11,
      "outputs": [
        {
          "output_type": "error",
          "ename": "FileExistsError",
          "evalue": "ignored",
          "traceback": [
            "\u001b[0;31m---------------------------------------------------------------------------\u001b[0m",
            "\u001b[0;31mFileExistsError\u001b[0m                           Traceback (most recent call last)",
            "\u001b[0;32m<ipython-input-11-eb234ad72e6e>\u001b[0m in \u001b[0;36m<module>\u001b[0;34m()\u001b[0m\n\u001b[1;32m      1\u001b[0m \u001b[0mtrain_dir\u001b[0m \u001b[0;34m=\u001b[0m \u001b[0mos\u001b[0m\u001b[0;34m.\u001b[0m\u001b[0mpath\u001b[0m\u001b[0;34m.\u001b[0m\u001b[0mjoin\u001b[0m\u001b[0;34m(\u001b[0m\u001b[0mbase_dir\u001b[0m\u001b[0;34m,\u001b[0m \u001b[0;34m'train'\u001b[0m\u001b[0;34m)\u001b[0m\u001b[0;34m\u001b[0m\u001b[0;34m\u001b[0m\u001b[0m\n\u001b[0;32m----> 2\u001b[0;31m \u001b[0mos\u001b[0m\u001b[0;34m.\u001b[0m\u001b[0mmkdir\u001b[0m\u001b[0;34m(\u001b[0m\u001b[0mtrain_dir\u001b[0m\u001b[0;34m)\u001b[0m\u001b[0;34m\u001b[0m\u001b[0;34m\u001b[0m\u001b[0m\n\u001b[0m\u001b[1;32m      3\u001b[0m \u001b[0;34m\u001b[0m\u001b[0m\n\u001b[1;32m      4\u001b[0m \u001b[0mvalidation_dir\u001b[0m \u001b[0;34m=\u001b[0m \u001b[0mos\u001b[0m\u001b[0;34m.\u001b[0m\u001b[0mpath\u001b[0m\u001b[0;34m.\u001b[0m\u001b[0mjoin\u001b[0m\u001b[0;34m(\u001b[0m\u001b[0mbase_dir\u001b[0m\u001b[0;34m,\u001b[0m \u001b[0;34m'validation'\u001b[0m\u001b[0;34m)\u001b[0m\u001b[0;34m\u001b[0m\u001b[0;34m\u001b[0m\u001b[0m\n\u001b[1;32m      5\u001b[0m \u001b[0mos\u001b[0m\u001b[0;34m.\u001b[0m\u001b[0mmkdir\u001b[0m\u001b[0;34m(\u001b[0m\u001b[0mvalidation_dir\u001b[0m\u001b[0;34m)\u001b[0m\u001b[0;34m\u001b[0m\u001b[0;34m\u001b[0m\u001b[0m\n",
            "\u001b[0;31mFileExistsError\u001b[0m: [Errno 17] File exists: '/content/COVID_Detection/train'"
          ]
        }
      ]
    },
    {
      "cell_type": "code",
      "source": [
        "import shutil\n",
        "fnames = ['covid-{}.png'.format(i) for i in range(280)]\n",
        "for fname in fnames:\n",
        "    src = os.path.join(covid_dataset_dir, fname)\n",
        "    dst = os.path.join(train_covid_dir, fname)\n",
        "    #print(src,dst)\n",
        "    shutil.copyfile(src, dst)\n",
        "    \n",
        "fnames = ['covid-{}.png'.format(i) for i in range(281,348)]\n",
        "for fname in fnames:\n",
        "    src = os.path.join(covid_dataset_dir, fname)\n",
        "    dst = os.path.join(validation_covid_dir, fname)\n",
        "    shutil.copyfile(src, dst)\n",
        "\n",
        "    \n",
        "fnames = ['noncovid-{}.png'.format(i) for i in range(316)]\n",
        "for fname in fnames:\n",
        "    src = os.path.join(noncovid_dataset_dir, fname)\n",
        "    dst = os.path.join(train_noncovid_dir, fname)\n",
        "    shutil.copyfile(src, dst)\n",
        "\n",
        "fnames = ['noncovid-{}.png'.format(i) for i in range(317, 396)]\n",
        "for fname in fnames:\n",
        "    src = os.path.join(noncovid_dataset_dir, fname)\n",
        "    dst = os.path.join(validation_noncovid_dir, fname)\n",
        "    shutil.copyfile(src, dst)\n"
      ],
      "metadata": {
        "id": "cJuVhmuH9Ixj"
      },
      "execution_count": 15,
      "outputs": []
    },
    {
      "cell_type": "code",
      "source": [
        "print('total training covid images:', len(os.listdir(train_covid_dir)))\n",
        "print('total training noncovid images:', len(os.listdir(train_noncovid_dir)))\n",
        "\n",
        "print('total validation covid images:', len(os.listdir(validation_covid_dir)))\n",
        "print('total validation noncovid images:', len(os.listdir(validation_noncovid_dir)))"
      ],
      "metadata": {
        "colab": {
          "base_uri": "https://localhost:8080/"
        },
        "id": "vTIVQbVIK7hX",
        "outputId": "88bfe76d-f9e2-46aa-89a8-14fd5086c93f"
      },
      "execution_count": 47,
      "outputs": [
        {
          "output_type": "stream",
          "name": "stdout",
          "text": [
            "total training covid images: 280\n",
            "total training noncovid images: 316\n",
            "total validation covid images: 67\n",
            "total validation noncovid images: 79\n"
          ]
        }
      ]
    },
    {
      "cell_type": "code",
      "source": [
        "from keras import layers\n",
        "from keras import models\n",
        "\n",
        "model = models.Sequential()\n",
        "model.add(layers.Conv2D(32, (3, 3), activation='relu', input_shape=(150, 150, 3)))\n",
        "model.add(layers.MaxPooling2D((2, 2)))\n",
        "model.add(layers.Conv2D(64, (3, 3), activation='relu'))\n",
        "model.add(layers.MaxPooling2D((2, 2)))\n",
        "model.add(layers.Conv2D(128, (3, 3), activation='relu'))\n",
        "model.add(layers.MaxPooling2D((2, 2)))\n",
        "model.add(layers.Conv2D(128, (3, 3), activation='relu'))\n",
        "model.add(layers.MaxPooling2D((2, 2)))\n",
        "model.add(layers.Flatten())\n",
        "model.add(layers.Dense(512, activation='relu'))\n",
        "model.add(layers.Dense(1, activation='sigmoid'))\n",
        "model.summary()"
      ],
      "metadata": {
        "colab": {
          "base_uri": "https://localhost:8080/"
        },
        "id": "2UpbHFQVLQSH",
        "outputId": "e757ac31-dc12-4a35-f586-ba8bf285648a"
      },
      "execution_count": 18,
      "outputs": [
        {
          "output_type": "stream",
          "name": "stdout",
          "text": [
            "Model: \"sequential\"\n",
            "_________________________________________________________________\n",
            " Layer (type)                Output Shape              Param #   \n",
            "=================================================================\n",
            " conv2d (Conv2D)             (None, 148, 148, 32)      896       \n",
            "                                                                 \n",
            " max_pooling2d (MaxPooling2D  (None, 74, 74, 32)       0         \n",
            " )                                                               \n",
            "                                                                 \n",
            " conv2d_1 (Conv2D)           (None, 72, 72, 64)        18496     \n",
            "                                                                 \n",
            " max_pooling2d_1 (MaxPooling  (None, 36, 36, 64)       0         \n",
            " 2D)                                                             \n",
            "                                                                 \n",
            " conv2d_2 (Conv2D)           (None, 34, 34, 128)       73856     \n",
            "                                                                 \n",
            " max_pooling2d_2 (MaxPooling  (None, 17, 17, 128)      0         \n",
            " 2D)                                                             \n",
            "                                                                 \n",
            " conv2d_3 (Conv2D)           (None, 15, 15, 128)       147584    \n",
            "                                                                 \n",
            " max_pooling2d_3 (MaxPooling  (None, 7, 7, 128)        0         \n",
            " 2D)                                                             \n",
            "                                                                 \n",
            " flatten (Flatten)           (None, 6272)              0         \n",
            "                                                                 \n",
            " dense (Dense)               (None, 512)               3211776   \n",
            "                                                                 \n",
            " dense_1 (Dense)             (None, 1)                 513       \n",
            "                                                                 \n",
            "=================================================================\n",
            "Total params: 3,453,121\n",
            "Trainable params: 3,453,121\n",
            "Non-trainable params: 0\n",
            "_________________________________________________________________\n"
          ]
        }
      ]
    },
    {
      "cell_type": "code",
      "source": [
        "from tensorflow.keras import optimizers\n",
        "model.compile(loss='binary_crossentropy', \n",
        "              optimizer=optimizers.RMSprop(lr=1e-4),\n",
        "              metrics=['acc'])"
      ],
      "metadata": {
        "colab": {
          "base_uri": "https://localhost:8080/"
        },
        "id": "-qbmWyLqLTr1",
        "outputId": "81a2c1d7-d4e5-42c7-8953-9faa709bea05"
      },
      "execution_count": 19,
      "outputs": [
        {
          "output_type": "stream",
          "name": "stderr",
          "text": [
            "/usr/local/lib/python3.7/dist-packages/keras/optimizer_v2/rmsprop.py:130: UserWarning: The `lr` argument is deprecated, use `learning_rate` instead.\n",
            "  super(RMSprop, self).__init__(name, **kwargs)\n"
          ]
        }
      ]
    },
    {
      "cell_type": "code",
      "source": [
        "from keras.preprocessing.image import ImageDataGenerator\n",
        "\n",
        "train_datagen = ImageDataGenerator(rescale=1./255)\n",
        "test_datagen = ImageDataGenerator(rescale=1./255)\n",
        "\n",
        "train_generator = train_datagen.flow_from_directory(train_dir,\n",
        "                                                    target_size=(150, 150), \n",
        "                                                    batch_size=20,\n",
        "                                                    class_mode='binary')\n",
        "\n",
        "validation_generator = test_datagen.flow_from_directory(validation_dir,\n",
        "                                                        target_size=(150, 150),\n",
        "                                                        batch_size=10,\n",
        "                                                        class_mode='binary')"
      ],
      "metadata": {
        "colab": {
          "base_uri": "https://localhost:8080/"
        },
        "id": "Bt5pOq7jLWUe",
        "outputId": "a12797ce-f949-49d8-b2d5-d9f5fe8408bb"
      },
      "execution_count": 59,
      "outputs": [
        {
          "output_type": "stream",
          "name": "stdout",
          "text": [
            "Found 596 images belonging to 2 classes.\n",
            "Found 146 images belonging to 2 classes.\n"
          ]
        }
      ]
    },
    {
      "cell_type": "code",
      "source": [
        "history = model.fit_generator(train_generator,\n",
        "                              steps_per_epoch=10,\n",
        "                              epochs=30,\n",
        "                              validation_data=validation_generator,\n",
        "                              validation_steps=10)"
      ],
      "metadata": {
        "colab": {
          "base_uri": "https://localhost:8080/"
        },
        "id": "EZZVmq4wLcUO",
        "outputId": "8faf8bb3-c8bb-4e8c-cbbe-d2812de7c038"
      },
      "execution_count": 60,
      "outputs": [
        {
          "output_type": "stream",
          "name": "stdout",
          "text": [
            "Epoch 1/30\n"
          ]
        },
        {
          "output_type": "stream",
          "name": "stderr",
          "text": [
            "/usr/local/lib/python3.7/dist-packages/ipykernel_launcher.py:5: UserWarning: `Model.fit_generator` is deprecated and will be removed in a future version. Please use `Model.fit`, which supports generators.\n",
            "  \"\"\"\n"
          ]
        },
        {
          "output_type": "stream",
          "name": "stdout",
          "text": [
            "10/10 [==============================] - 2s 147ms/step - loss: 0.6452 - acc: 0.6350 - val_loss: 0.6208 - val_acc: 0.6500\n",
            "Epoch 2/30\n",
            "10/10 [==============================] - 1s 144ms/step - loss: 0.6811 - acc: 0.5700 - val_loss: 0.6332 - val_acc: 0.6500\n",
            "Epoch 3/30\n",
            "10/10 [==============================] - 1s 150ms/step - loss: 0.6781 - acc: 0.5650 - val_loss: 0.6388 - val_acc: 0.6200\n",
            "Epoch 4/30\n",
            "10/10 [==============================] - 1s 136ms/step - loss: 0.6349 - acc: 0.6050 - val_loss: 0.6367 - val_acc: 0.6000\n",
            "Epoch 5/30\n",
            "10/10 [==============================] - 1s 148ms/step - loss: 0.6365 - acc: 0.6500 - val_loss: 0.6377 - val_acc: 0.6400\n",
            "Epoch 6/30\n",
            "10/10 [==============================] - 1s 144ms/step - loss: 0.6401 - acc: 0.6480 - val_loss: 0.6143 - val_acc: 0.6900\n",
            "Epoch 7/30\n",
            "10/10 [==============================] - 2s 166ms/step - loss: 0.6097 - acc: 0.6750 - val_loss: 0.6324 - val_acc: 0.6200\n",
            "Epoch 8/30\n",
            "10/10 [==============================] - 1s 152ms/step - loss: 0.6293 - acc: 0.6600 - val_loss: 0.6004 - val_acc: 0.6900\n",
            "Epoch 9/30\n",
            "10/10 [==============================] - 1s 149ms/step - loss: 0.6169 - acc: 0.6633 - val_loss: 0.6054 - val_acc: 0.6900\n",
            "Epoch 10/30\n",
            "10/10 [==============================] - 1s 140ms/step - loss: 0.5901 - acc: 0.6837 - val_loss: 0.5951 - val_acc: 0.7200\n",
            "Epoch 11/30\n",
            "10/10 [==============================] - 2s 149ms/step - loss: 0.5916 - acc: 0.6700 - val_loss: 0.6002 - val_acc: 0.6700\n",
            "Epoch 12/30\n",
            "10/10 [==============================] - 1s 140ms/step - loss: 0.5839 - acc: 0.7200 - val_loss: 0.5834 - val_acc: 0.6400\n",
            "Epoch 13/30\n",
            "10/10 [==============================] - 1s 135ms/step - loss: 0.5489 - acc: 0.7143 - val_loss: 0.6010 - val_acc: 0.6700\n",
            "Epoch 14/30\n",
            "10/10 [==============================] - 1s 155ms/step - loss: 0.5465 - acc: 0.7400 - val_loss: 0.5728 - val_acc: 0.6900\n",
            "Epoch 15/30\n",
            "10/10 [==============================] - 1s 136ms/step - loss: 0.5649 - acc: 0.7150 - val_loss: 0.6087 - val_acc: 0.6500\n",
            "Epoch 16/30\n",
            "10/10 [==============================] - 2s 162ms/step - loss: 0.5583 - acc: 0.7400 - val_loss: 0.5528 - val_acc: 0.6900\n",
            "Epoch 17/30\n",
            "10/10 [==============================] - 1s 142ms/step - loss: 0.5419 - acc: 0.7347 - val_loss: 0.5651 - val_acc: 0.7200\n",
            "Epoch 18/30\n",
            "10/10 [==============================] - 1s 143ms/step - loss: 0.5263 - acc: 0.7300 - val_loss: 0.5634 - val_acc: 0.6900\n",
            "Epoch 19/30\n",
            "10/10 [==============================] - 1s 146ms/step - loss: 0.5269 - acc: 0.7449 - val_loss: 0.5431 - val_acc: 0.6900\n",
            "Epoch 20/30\n",
            "10/10 [==============================] - 1s 128ms/step - loss: 0.5128 - acc: 0.7551 - val_loss: 0.7095 - val_acc: 0.6100\n",
            "Epoch 21/30\n",
            "10/10 [==============================] - 2s 167ms/step - loss: 0.5850 - acc: 0.6750 - val_loss: 0.5551 - val_acc: 0.7100\n",
            "Epoch 22/30\n",
            "10/10 [==============================] - 1s 135ms/step - loss: 0.5465 - acc: 0.7050 - val_loss: 0.5890 - val_acc: 0.6800\n",
            "Epoch 23/30\n",
            "10/10 [==============================] - 1s 140ms/step - loss: 0.4778 - acc: 0.7450 - val_loss: 0.5818 - val_acc: 0.6800\n",
            "Epoch 24/30\n",
            "10/10 [==============================] - 1s 135ms/step - loss: 0.4998 - acc: 0.7650 - val_loss: 0.5531 - val_acc: 0.7300\n",
            "Epoch 25/30\n",
            "10/10 [==============================] - 1s 139ms/step - loss: 0.4823 - acc: 0.7908 - val_loss: 0.5176 - val_acc: 0.7300\n",
            "Epoch 26/30\n",
            "10/10 [==============================] - 1s 141ms/step - loss: 0.5104 - acc: 0.7245 - val_loss: 0.4929 - val_acc: 0.7600\n",
            "Epoch 27/30\n",
            "10/10 [==============================] - 1s 142ms/step - loss: 0.4807 - acc: 0.7653 - val_loss: 0.5704 - val_acc: 0.7100\n",
            "Epoch 28/30\n",
            "10/10 [==============================] - 1s 149ms/step - loss: 0.4764 - acc: 0.7900 - val_loss: 0.5946 - val_acc: 0.6900\n",
            "Epoch 29/30\n",
            "10/10 [==============================] - 1s 142ms/step - loss: 0.4424 - acc: 0.7850 - val_loss: 0.5344 - val_acc: 0.7200\n",
            "Epoch 30/30\n",
            "10/10 [==============================] - 1s 132ms/step - loss: 0.4199 - acc: 0.8000 - val_loss: 0.5668 - val_acc: 0.6900\n"
          ]
        }
      ]
    },
    {
      "cell_type": "code",
      "source": [
        "model.save('covid.h5')\n",
        "\n",
        "import matplotlib.pyplot as plt\n",
        "\n",
        "acc = history.history['acc']\n",
        "val_acc = history.history['val_acc']\n",
        "loss = history.history['loss']\n",
        "val_loss = history.history['val_loss']\n",
        "\n",
        "print(len(acc))\n",
        "print(len(val_acc))\n",
        "\n",
        "epochs = range(1, len(acc) + 1)\n",
        "\n",
        "plt.plot(epochs, acc, 'bo', label='Training acc')\n",
        "plt.plot(epochs, val_acc, 'b', label='Validation acc')\n",
        "plt.title('Training and validation accuracy')\n",
        "plt.legend()\n",
        "\n",
        "plt.figure()\n",
        "\n",
        "plt.plot(epochs, loss, 'bo', label='Training loss')\n",
        "plt.plot(epochs, val_loss, 'b', label='Validation loss')\n",
        "plt.title('Training and validation loss')\n",
        "plt.legend()\n",
        "\n",
        "plt.show()"
      ],
      "metadata": {
        "colab": {
          "base_uri": "https://localhost:8080/",
          "height": 580
        },
        "id": "2EtGBJRdNAC_",
        "outputId": "3e22c02a-298d-4f77-8634-40dc5e9d7c58"
      },
      "execution_count": 62,
      "outputs": [
        {
          "output_type": "stream",
          "name": "stdout",
          "text": [
            "30\n",
            "30\n"
          ]
        },
        {
          "output_type": "display_data",
          "data": {
            "text/plain": [
              "<Figure size 432x288 with 1 Axes>"
            ],
            "image/png": "[encoded data removed]"
          },
          "metadata": {
            "needs_background": "light"
          }
        },
        {
          "output_type": "display_data",
          "data": {
            "text/plain": [
              "<Figure size 432x288 with 1 Axes>"
            ],
            "image/png": "[encoded data removed]"
          },
          "metadata": {
            "needs_background": "light"
          }
        }
      ]
    },
    {
      "cell_type": "code",
      "source": [
        "from keras import layers\n",
        "from keras import models\n",
        "from tensorflow.keras import optimizers\n",
        "from keras.preprocessing.image import ImageDataGenerator\n",
        "\n",
        "model = models.Sequential()\n",
        "model.add(layers.Conv2D(32, (3, 3), activation='relu',\n",
        "input_shape=(150, 150, 3)))\n",
        "model.add(layers.MaxPooling2D((2, 2)))\n",
        "model.add(layers.Conv2D(64, (3, 3), activation='relu'))\n",
        "model.add(layers.MaxPooling2D((2, 2)))\n",
        "model.add(layers.Conv2D(128, (3, 3), activation='relu'))\n",
        "model.add(layers.MaxPooling2D((2, 2)))\n",
        "model.add(layers.Conv2D(128, (3, 3), activation='relu'))\n",
        "model.add(layers.MaxPooling2D((2, 2)))\n",
        "model.add(layers.Flatten())\n",
        "model.add(layers.Dropout(0.5)) # Dropout\n",
        "model.add(layers.Dense(512, activation='relu'))\n",
        "model.add(layers.Dense(1, activation='sigmoid'))\n",
        "\n",
        "model.compile(loss='binary_crossentropy',\n",
        "              optimizer=optimizers.RMSprop(lr=1e-4),\n",
        "              metrics=['acc'])"
      ],
      "metadata": {
        "colab": {
          "base_uri": "https://localhost:8080/"
        },
        "id": "Qpf0YnA3SJb1",
        "outputId": "58174af2-0b05-4d46-e5e7-1e87c7676ba8"
      },
      "execution_count": 55,
      "outputs": [
        {
          "output_type": "stream",
          "name": "stderr",
          "text": [
            "/usr/local/lib/python3.7/dist-packages/keras/optimizer_v2/rmsprop.py:130: UserWarning: The `lr` argument is deprecated, use `learning_rate` instead.\n",
            "  super(RMSprop, self).__init__(name, **kwargs)\n"
          ]
        }
      ]
    },
    {
      "cell_type": "markdown",
      "source": [
        "## Exercise\n",
        "We have downlaoded the COVID Image Data for you. Now, please a train and build a classification model to detect COVID vs Non-Covid cases. "
      ],
      "metadata": {
        "id": "wpGcwbg9T4UO"
      }
    },
    {
      "cell_type": "code",
      "source": [
        "train_datagen = ImageDataGenerator(rescale=1./255,\n",
        "                                   rotation_range=40,\n",
        "                                   width_shift_range=0.2,\n",
        "                                   height_shift_range=0.2,\n",
        "                                   shear_range=0.2,\n",
        "                                   zoom_range=0.2,\n",
        "                                   horizontal_flip=True,)\n",
        "\n",
        "test_datagen = ImageDataGenerator(rescale=1./255)\n",
        "\n",
        "train_generator = train_datagen.flow_from_directory(train_dir,\n",
        "                                                    target_size=(150, 150),\n",
        "                                                    batch_size=20,\n",
        "                                                    class_mode='binary')\n",
        "\n",
        "validation_generator = test_datagen.flow_from_directory(validation_dir,\n",
        "                                                        target_size=(150, 150),\n",
        "                                                        batch_size=10,\n",
        "                                                        class_mode='binary')\n",
        "\n",
        "history = model.fit_generator(train_generator,\n",
        "                              steps_per_epoch=10,\n",
        "                              epochs=30,\n",
        "                              validation_data=validation_generator,\n",
        "                              validation_steps=10)"
      ],
      "metadata": {
        "colab": {
          "base_uri": "https://localhost:8080/"
        },
        "id": "_ebbULAjSQ-0",
        "outputId": "8675d031-09f8-4df4-c1c4-de052ddc44da"
      },
      "execution_count": 58,
      "outputs": [
        {
          "output_type": "stream",
          "name": "stdout",
          "text": [
            "Found 596 images belonging to 2 classes.\n",
            "Found 146 images belonging to 2 classes.\n",
            "Epoch 1/30\n"
          ]
        },
        {
          "output_type": "stream",
          "name": "stderr",
          "text": [
            "/usr/local/lib/python3.7/dist-packages/ipykernel_launcher.py:25: UserWarning: `Model.fit_generator` is deprecated and will be removed in a future version. Please use `Model.fit`, which supports generators.\n"
          ]
        },
        {
          "output_type": "stream",
          "name": "stdout",
          "text": [
            "10/10 [==============================] - 2s 243ms/step - loss: 0.6606 - acc: 0.6000 - val_loss: 0.6514 - val_acc: 0.6100\n",
            "Epoch 2/30\n",
            "10/10 [==============================] - 2s 252ms/step - loss: 0.6570 - acc: 0.5650 - val_loss: 0.6580 - val_acc: 0.5000\n",
            "Epoch 3/30\n",
            "10/10 [==============================] - 2s 227ms/step - loss: 0.6315 - acc: 0.6300 - val_loss: 0.6264 - val_acc: 0.6200\n",
            "Epoch 4/30\n",
            "10/10 [==============================] - 2s 225ms/step - loss: 0.6313 - acc: 0.6600 - val_loss: 0.6834 - val_acc: 0.4900\n",
            "Epoch 5/30\n",
            "10/10 [==============================] - 2s 231ms/step - loss: 0.6406 - acc: 0.6200 - val_loss: 0.6500 - val_acc: 0.5700\n",
            "Epoch 6/30\n",
            "10/10 [==============================] - 2s 238ms/step - loss: 0.6660 - acc: 0.5850 - val_loss: 0.6653 - val_acc: 0.5400\n",
            "Epoch 7/30\n",
            "10/10 [==============================] - 2s 237ms/step - loss: 0.6508 - acc: 0.6100 - val_loss: 0.6382 - val_acc: 0.5700\n",
            "Epoch 8/30\n",
            "10/10 [==============================] - 3s 280ms/step - loss: 0.6325 - acc: 0.5950 - val_loss: 0.6490 - val_acc: 0.5700\n",
            "Epoch 9/30\n",
            "10/10 [==============================] - 2s 255ms/step - loss: 0.6532 - acc: 0.6550 - val_loss: 0.6949 - val_acc: 0.5400\n",
            "Epoch 10/30\n",
            "10/10 [==============================] - 2s 248ms/step - loss: 0.6359 - acc: 0.6000 - val_loss: 0.6610 - val_acc: 0.6200\n",
            "Epoch 11/30\n",
            "10/10 [==============================] - 2s 246ms/step - loss: 0.6198 - acc: 0.6550 - val_loss: 0.6498 - val_acc: 0.6100\n",
            "Epoch 12/30\n",
            "10/10 [==============================] - 4s 382ms/step - loss: 0.6469 - acc: 0.6122 - val_loss: 0.6676 - val_acc: 0.6300\n",
            "Epoch 13/30\n",
            "10/10 [==============================] - 2s 230ms/step - loss: 0.6672 - acc: 0.6582 - val_loss: 0.6703 - val_acc: 0.6100\n",
            "Epoch 14/30\n",
            "10/10 [==============================] - 2s 244ms/step - loss: 0.6684 - acc: 0.5714 - val_loss: 0.6369 - val_acc: 0.6200\n",
            "Epoch 15/30\n",
            "10/10 [==============================] - 2s 241ms/step - loss: 0.6611 - acc: 0.5850 - val_loss: 0.7003 - val_acc: 0.5200\n",
            "Epoch 16/30\n",
            "10/10 [==============================] - 2s 234ms/step - loss: 0.6240 - acc: 0.6200 - val_loss: 0.6565 - val_acc: 0.6100\n",
            "Epoch 17/30\n",
            "10/10 [==============================] - 2s 231ms/step - loss: 0.6449 - acc: 0.6150 - val_loss: 0.6692 - val_acc: 0.6100\n",
            "Epoch 18/30\n",
            "10/10 [==============================] - 2s 231ms/step - loss: 0.6713 - acc: 0.6327 - val_loss: 0.6749 - val_acc: 0.5900\n",
            "Epoch 19/30\n",
            "10/10 [==============================] - 2s 251ms/step - loss: 0.6756 - acc: 0.5750 - val_loss: 0.6519 - val_acc: 0.6600\n",
            "Epoch 20/30\n",
            "10/10 [==============================] - 2s 224ms/step - loss: 0.6743 - acc: 0.6000 - val_loss: 0.6663 - val_acc: 0.5500\n",
            "Epoch 21/30\n",
            "10/10 [==============================] - 2s 237ms/step - loss: 0.6878 - acc: 0.5500 - val_loss: 0.6626 - val_acc: 0.6300\n",
            "Epoch 22/30\n",
            "10/10 [==============================] - 3s 258ms/step - loss: 0.6516 - acc: 0.6400 - val_loss: 0.7393 - val_acc: 0.4900\n",
            "Epoch 23/30\n",
            "10/10 [==============================] - 2s 234ms/step - loss: 0.6155 - acc: 0.6250 - val_loss: 0.6438 - val_acc: 0.6300\n",
            "Epoch 24/30\n",
            "10/10 [==============================] - 2s 230ms/step - loss: 0.6376 - acc: 0.6400 - val_loss: 0.6466 - val_acc: 0.6300\n",
            "Epoch 25/30\n",
            "10/10 [==============================] - 2s 240ms/step - loss: 0.6517 - acc: 0.6327 - val_loss: 0.6564 - val_acc: 0.6300\n",
            "Epoch 26/30\n",
            "10/10 [==============================] - 2s 240ms/step - loss: 0.6569 - acc: 0.6150 - val_loss: 0.6605 - val_acc: 0.6100\n",
            "Epoch 27/30\n",
            "10/10 [==============================] - 2s 233ms/step - loss: 0.6326 - acc: 0.6071 - val_loss: 0.7318 - val_acc: 0.4900\n",
            "Epoch 28/30\n",
            "10/10 [==============================] - 2s 235ms/step - loss: 0.6369 - acc: 0.6100 - val_loss: 0.6727 - val_acc: 0.5400\n",
            "Epoch 29/30\n",
            "10/10 [==============================] - 2s 230ms/step - loss: 0.6323 - acc: 0.6850 - val_loss: 0.6426 - val_acc: 0.6500\n",
            "Epoch 30/30\n",
            "10/10 [==============================] - 2s 233ms/step - loss: 0.6625 - acc: 0.5950 - val_loss: 0.6678 - val_acc: 0.5900\n"
          ]
        }
      ]
    },
    {
      "cell_type": "code",
      "source": [
        "import matplotlib.pyplot as plt\n",
        "\n",
        "acc = history.history['acc']\n",
        "val_acc = history.history['val_acc']\n",
        "loss = history.history['loss']\n",
        "val_loss = history.history['val_loss']\n",
        "\n",
        "epochs = range(1, len(acc) + 1)\n",
        "\n",
        "plt.plot(epochs, acc, 'bo', label='Training acc')\n",
        "plt.plot(epochs, val_acc, 'b', label='Validation acc')\n",
        "plt.title('Training and validation accuracy')\n",
        "plt.legend()\n",
        "\n",
        "plt.figure()\n",
        "\n",
        "plt.plot(epochs, loss, 'bo', label='Training loss')\n",
        "plt.plot(epochs, val_loss, 'b', label='Validation loss')\n",
        "plt.title('Training and validation loss')\n",
        "plt.legend()\n",
        "\n",
        "plt.show()"
      ],
      "metadata": {
        "colab": {
          "base_uri": "https://localhost:8080/",
          "height": 545
        },
        "id": "V8cnufpJU1dZ",
        "outputId": "1a52ba1a-4dc5-4e3e-86f5-a68e0c777894"
      },
      "execution_count": 61,
      "outputs": [
        {
          "output_type": "display_data",
          "data": {
            "text/plain": [
              "<Figure size 432x288 with 1 Axes>"
            ],
            "image/png": "[encoded data removed]"
          },
          "metadata": {
            "needs_background": "light"
          }
        },
        {
          "output_type": "display_data",
          "data": {
            "text/plain": [
              "<Figure size 432x288 with 1 Axes>"
            ],
            "image/png": "[encoded data removed]"
          },
          "metadata": {
            "needs_background": "light"
          }
        }
      ]
    }
  ]
}